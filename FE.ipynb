{
 "metadata": {
  "name": ""
 },
 "nbformat": 3,
 "nbformat_minor": 0,
 "worksheets": [
  {
   "cells": [
    {
     "cell_type": "code",
     "collapsed": false,
     "input": [
      "%pylab inline\n",
      "import numpy as np\n",
      "import matplotlib.pyplot as plt"
     ],
     "language": "python",
     "metadata": {},
     "outputs": [
      {
       "output_type": "stream",
       "stream": "stdout",
       "text": [
        "Populating the interactive namespace from numpy and matplotlib\n"
       ]
      }
     ],
     "prompt_number": 2
    },
    {
     "cell_type": "code",
     "collapsed": false,
     "input": [
      "\"\"\"\n",
      "read_input-file\n",
      "\"\"\"\n",
      "# No._material_props:\n",
      "nporps = 3\n",
      "\n",
      "# Shear_modulus:\n",
      "materialprops = [10.]\n",
      "\n",
      "# Poissons_ratio:\n",
      "materialprops.append(.3)\n",
      "\n",
      "# Plane_strain/stress: \n",
      "materialprops.append(1)\n",
      "\n",
      "# No._coords_per_node:\n",
      "ncood = 2\n",
      "\n",
      "# No._DOF_per_node:      \n",
      "ndof = 2\n",
      "\n",
      "# No._nodes:             \n",
      "nnode = 4\n",
      "\n",
      "# Nodal_coords:\n",
      "coords = np.zeros((4,2))\n",
      "coords[0] = [0.0, 0.0]\n",
      "coords[0] = [1.0, 0.0]\n",
      "coords[0] = [1.0, 1.0]\n",
      "coords[0] = [0.0, 1.0]\n",
      "\n",
      "# No._elements:                       \n",
      "nelem = 2\n",
      "\n",
      "# Max_no._nodes_on_any_one_element:   \n",
      "maxnodes= 3\n",
      "\n",
      "# element_identifier; no._nodes_on_element; connectivity:\n",
      "elident = [1]\n",
      "elident.append(1)\n",
      "nelnodes = [1]\n",
      "nelnodes.append(1)\n",
      "connect = np.zeros((3,2))\n",
      "connect[0][0] = 1\n",
      "connect[1][0] = 2\n",
      "connect[2][0] = 4\n",
      "connect[0][1] = 2\n",
      "connect[1][1] = 3\n",
      "connect[2][1] = 4\n",
      "\n",
      "# No._nodes_with_prescribed_DOFs:  \n",
      "nfix = 3\n",
      "\n",
      "# Node_#, DOF#, Value:\n",
      "fixnode = np.zeros((3, nfix))\n",
      "fixnode[0][0] = 1\n",
      "fixnode[1][0] = 1\n",
      "fixnode[2][0] = 0.0\n",
      "fixnode[0][1] = 1\n",
      "fixnode[1][1] = 2\n",
      "fixnode[2][1] = 0.0\n",
      "fixnode[0][2] = 4\n",
      "fixnode[1][2] = 1\n",
      "fixnode[2][2] = 0.0\n",
      "\n",
      "# No._elements_with_prescribed_loads: \n",
      "ndload = 1\n",
      "\n",
      "# Element_#, Face_#, Traction_components\n",
      "dloads = np.zeros((4, ndload))\n",
      "dloads[0][0] = 2\n",
      "dloads[1][0] = 1\n",
      "dloads[2][0] = 1.0\n",
      "dloads[3][0] = 0.0"
     ],
     "language": "python",
     "metadata": {},
     "outputs": [],
     "prompt_number": 13
    },
    {
     "cell_type": "code",
     "collapsed": false,
     "input": [],
     "language": "python",
     "metadata": {},
     "outputs": [
      {
       "metadata": {},
       "output_type": "pyout",
       "prompt_number": 14,
       "text": [
        "array([[ 2.],\n",
        "       [ 1.],\n",
        "       [ 1.],\n",
        "       [ 0.]])"
       ]
      }
     ],
     "prompt_number": 14
    }
   ],
   "metadata": {}
  }
 ]
}